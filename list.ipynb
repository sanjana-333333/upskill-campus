{
  "cells": [
    {
      "cell_type": "markdown",
      "metadata": {
        "id": "view-in-github",
        "colab_type": "text"
      },
      "source": [
        "<a href=\"https://colab.research.google.com/github/sanjana-333333/upskill-campus/blob/main/list.ipynb\" target=\"_parent\"><img src=\"https://colab.research.google.com/assets/colab-badge.svg\" alt=\"Open In Colab\"/></a>"
      ]
    },
    {
      "cell_type": "code",
      "execution_count": null,
      "metadata": {
        "colab": {
          "base_uri": "https://localhost:8080/"
        },
        "id": "YmwKHx1z33nZ",
        "outputId": "c4959089-926c-4c04-a6cb-78cdc8622c84"
      },
      "outputs": [
        {
          "output_type": "stream",
          "name": "stdout",
          "text": [
            "\n",
            "1. Add Task\n",
            "2. Mark Task as Completed\n",
            "3. Remove Completed Tasks\n",
            "4. Display Tasks\n",
            "5. Exit\n",
            "Enter your choice: 1\n",
            "Enter the task: complte task\n",
            "\n",
            "1. Add Task\n",
            "2. Mark Task as Completed\n",
            "3. Remove Completed Tasks\n",
            "4. Display Tasks\n",
            "5. Exit\n",
            "Enter your choice: 4\n",
            "To-Do List:\n",
            "1. [ ] complte task\n",
            "\n",
            "1. Add Task\n",
            "2. Mark Task as Completed\n",
            "3. Remove Completed Tasks\n",
            "4. Display Tasks\n",
            "5. Exit\n",
            "Enter your choice: 2\n",
            "Enter the index of the task to mark as completed: 1\n",
            "Task marked as completed.\n",
            "\n",
            "1. Add Task\n",
            "2. Mark Task as Completed\n",
            "3. Remove Completed Tasks\n",
            "4. Display Tasks\n",
            "5. Exit\n",
            "Enter your choice: 3\n",
            "Completed tasks removed.\n",
            "\n",
            "1. Add Task\n",
            "2. Mark Task as Completed\n",
            "3. Remove Completed Tasks\n",
            "4. Display Tasks\n",
            "5. Exit\n",
            "Enter your choice: 4\n",
            "To-Do List:\n",
            "\n",
            "1. Add Task\n",
            "2. Mark Task as Completed\n",
            "3. Remove Completed Tasks\n",
            "4. Display Tasks\n",
            "5. Exit\n",
            "Enter your choice: 5\n",
            "Exiting...\n"
          ]
        }
      ],
      "source": [
        "class ToDoList:\n",
        "    def __init__(self):\n",
        "        self.tasks = []\n",
        "\n",
        "    def add_task(self, task):\n",
        "        self.tasks.append({\"task\": task, \"completed\": False})\n",
        "\n",
        "    def mark_task_completed(self, task_index):\n",
        "        if 0 <= task_index < len(self.tasks):\n",
        "            self.tasks[task_index][\"completed\"] = True\n",
        "            print(\"Task marked as completed.\")\n",
        "        else:\n",
        "            print(\"Invalid task index.\")\n",
        "\n",
        "    def remove_completed_tasks(self):\n",
        "        self.tasks = [task for task in self.tasks if not task[\"completed\"]]\n",
        "        print(\"Completed tasks removed.\")\n",
        "\n",
        "    def display_tasks(self):\n",
        "        print(\"To-Do List:\")\n",
        "        for index, task in enumerate(self.tasks):\n",
        "            print(f\"{index + 1}. {'[X]' if task['completed'] else '[ ]'} {task['task']}\")\n",
        "\n",
        "\n",
        "def main():\n",
        "    todo_list = ToDoList()\n",
        "\n",
        "    while True:\n",
        "        print(\"\\n1. Add Task\")\n",
        "        print(\"2. Mark Task as Completed\")\n",
        "        print(\"3. Remove Completed Tasks\")\n",
        "        print(\"4. Display Tasks\")\n",
        "        print(\"5. Exit\")\n",
        "\n",
        "        choice = input(\"Enter your choice: \")\n",
        "\n",
        "        if choice == \"1\":\n",
        "            task = input(\"Enter the task: \")\n",
        "            todo_list.add_task(task)\n",
        "        elif choice == \"2\":\n",
        "            task_index = int(input(\"Enter the index of the task to mark as completed: \")) - 1\n",
        "            todo_list.mark_task_completed(task_index)\n",
        "        elif choice == \"3\":\n",
        "            todo_list.remove_completed_tasks()\n",
        "        elif choice == \"4\":\n",
        "            todo_list.display_tasks()\n",
        "        elif choice == \"5\":\n",
        "            print(\"Exiting...\")\n",
        "            break\n",
        "        else:\n",
        "            print(\"Invalid choice. Please try again.\")\n",
        "\n",
        "\n",
        "if __name__ == \"__main__\":\n",
        "    main()\n"
      ]
    }
  ],
  "metadata": {
    "colab": {
      "provenance": [],
      "authorship_tag": "ABX9TyMrjUELBWtbkWHxwmJFEO8k",
      "include_colab_link": true
    },
    "kernelspec": {
      "display_name": "Python 3",
      "name": "python3"
    },
    "language_info": {
      "name": "python"
    }
  },
  "nbformat": 4,
  "nbformat_minor": 0
}